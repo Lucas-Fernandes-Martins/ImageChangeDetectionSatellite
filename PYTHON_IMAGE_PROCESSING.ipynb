{
 "cells": [
  {
   "cell_type": "code",
   "execution_count": 1,
   "id": "8ada3f69",
   "metadata": {},
   "outputs": [
    {
     "name": "stderr",
     "output_type": "stream",
     "text": [
      "C:\\Users\\User\\AppData\\Local\\Programs\\Python\\Python310\\lib\\site-packages\\rasterio\\__init__.py:321: NotGeoreferencedWarning: Dataset has no geotransform, gcps, or rpcs. The identity matrix will be returned.\n",
      "  dataset = DatasetReader(path, driver=driver, sharing=sharing, **kwargs)\n"
     ]
    }
   ],
   "source": [
    "import numpy as np\n",
    "import rasterio\n",
    "from PIL import Image\n",
    "from rasterio.plot import show\n",
    "import matplotlib.pyplot as plt\n",
    "\n",
    "\n",
    "#Open TIF image\n",
    "\n",
    "img = rasterio.open(\"Coregistration2015-2018.tif\")\n",
    "imgarray = img.read(1)"
   ]
  },
  {
   "cell_type": "code",
   "execution_count": 2,
   "id": "38dcc58e",
   "metadata": {},
   "outputs": [
    {
     "data": {
      "text/plain": [
       "(2, 16455, 25801)"
      ]
     },
     "execution_count": 2,
     "metadata": {},
     "output_type": "execute_result"
    }
   ],
   "source": [
    "img.read().shape"
   ]
  },
  {
   "cell_type": "code",
   "execution_count": 3,
   "id": "f479bb60",
   "metadata": {},
   "outputs": [
    {
     "name": "stderr",
     "output_type": "stream",
     "text": [
      "C:\\Users\\User\\AppData\\Local\\Temp\\ipykernel_13408\\692425588.py:3: RuntimeWarning: divide by zero encountered in log10\n",
      "  imgarray = 10*np.log10(imgarray)  # données au format logarithme\n"
     ]
    }
   ],
   "source": [
    "imgarray = img.read(1)\n",
    "\n",
    "imgarray = 10*np.log10(imgarray)  # données au format logarithme\n",
    "\n",
    "l, w = imgarray.shape[0], imgarray.shape[1]\n",
    "\n",
    "# on fait la même chose pour toutes les images qu'il reste\n",
    "\n",
    "empty_img = np.zeros((l, w))  # l'image à colorer à chaque changement\n",
    "\n",
    "\n",
    "# couleur est un tableau de 4 éléments RGB : ex [66, 83, 157, 255]\n"
   ]
  },
  {
   "cell_type": "code",
   "execution_count": 4,
   "id": "6d7037ca",
   "metadata": {},
   "outputs": [],
   "source": [
    "empty_img = np.zeros((l, w, 3))  # l'image à colorer à chaque changement\n",
    "\n",
    "# 2dB en moins par rapport à la valeur initiale\n",
    "arrayseuil = imgarray-4\n"
   ]
  },
  {
   "cell_type": "code",
   "execution_count": 5,
   "id": "b24d6bd7",
   "metadata": {},
   "outputs": [
    {
     "data": {
      "text/plain": [
       "3"
      ]
     },
     "execution_count": 5,
     "metadata": {},
     "output_type": "execute_result"
    }
   ],
   "source": [
    "len(empty_img[0][0])"
   ]
  },
  {
   "cell_type": "code",
   "execution_count": 6,
   "id": "7d4d207c",
   "metadata": {},
   "outputs": [
    {
     "name": "stderr",
     "output_type": "stream",
     "text": [
      "C:\\Users\\User\\AppData\\Local\\Temp\\ipykernel_13408\\3653115308.py:2: RuntimeWarning: divide by zero encountered in log10\n",
      "  img_array_late1 = 10*np.log10(img_array_late1_wdb)\n",
      "C:\\Users\\User\\AppData\\Local\\Temp\\ipykernel_13408\\3653115308.py:2: RuntimeWarning: invalid value encountered in log10\n",
      "  img_array_late1 = 10*np.log10(img_array_late1_wdb)\n"
     ]
    }
   ],
   "source": [
    "img_array_late1_wdb = img.read(2)\n",
    "img_array_late1 = 10*np.log10(img_array_late1_wdb)"
   ]
  },
  {
   "cell_type": "code",
   "execution_count": 7,
   "id": "002c2add",
   "metadata": {},
   "outputs": [],
   "source": [
    "img_array_late1_wdb = (img_array_late1_wdb + 0.37)*255"
   ]
  },
  {
   "cell_type": "code",
   "execution_count": 8,
   "id": "b2fc8e21",
   "metadata": {},
   "outputs": [],
   "source": [
    "img_array_late1_wdb[img_array_late1_wdb > 255] = 255\n",
    "img_array_late1_wdb[img_array_late1_wdb < 0] = 0"
   ]
  },
  {
   "cell_type": "code",
   "execution_count": 9,
   "id": "81fe81ff",
   "metadata": {},
   "outputs": [],
   "source": [
    "tif_to_rgb = np.zeros((l, w, 3))\n",
    "\n",
    "tif_to_rgb[:, :, 0] = img_array_late1_wdb\n",
    "tif_to_rgb[:, :, 1] = img_array_late1_wdb\n",
    "tif_to_rgb[:, :, 2] = img_array_late1_wdb\n",
    "\n",
    "img_array_late1_wdb = tif_to_rgb"
   ]
  },
  {
   "cell_type": "code",
   "execution_count": 10,
   "id": "2c23e830",
   "metadata": {},
   "outputs": [],
   "source": [
    "#empty_img = img_array_late1_wdb.copy()\n",
    "#empty_img2 = img_array_late1_wdb.copy()"
   ]
  },
  {
   "cell_type": "code",
   "execution_count": 11,
   "id": "bac2eacf",
   "metadata": {},
   "outputs": [
    {
     "name": "stdout",
     "output_type": "stream",
     "text": [
      "0\n"
     ]
    }
   ],
   "source": [
    "print(np.count_nonzero(empty_img))"
   ]
  },
  {
   "cell_type": "code",
   "execution_count": 12,
   "id": "5e69f186",
   "metadata": {},
   "outputs": [
    {
     "data": {
      "text/plain": [
       "(16455, 25801, 3)"
      ]
     },
     "execution_count": 12,
     "metadata": {},
     "output_type": "execute_result"
    }
   ],
   "source": [
    "img_array_late1_wdb.shape"
   ]
  },
  {
   "cell_type": "code",
   "execution_count": 13,
   "id": "7c458dfc",
   "metadata": {
    "scrolled": true
   },
   "outputs": [
    {
     "name": "stderr",
     "output_type": "stream",
     "text": [
      "C:\\Users\\User\\AppData\\Local\\Temp\\ipykernel_13408\\2954943634.py:36: RuntimeWarning: divide by zero encountered in log10\n",
      "  img_array_late2 = 10*np.log10(img_array_late2) #2016\n",
      "C:\\Users\\User\\AppData\\Local\\Temp\\ipykernel_13408\\2954943634.py:36: RuntimeWarning: invalid value encountered in log10\n",
      "  img_array_late2 = 10*np.log10(img_array_late2) #2016\n"
     ]
    }
   ],
   "source": [
    "\n",
    "def compare(imgarray_late, arrayseuil, couleur, empty_img):\n",
    "    comp = (imgarray_late < arrayseuil)\n",
    "     \n",
    "    empty_img[comp == True] = couleur\n",
    "    \n",
    "    arrayseuil[comp == True] = -np.inf\n",
    "        \n",
    "    return empty_img, arrayseuil\n",
    "\n",
    "\n",
    "def last_compare(imgarray_last, arrayseuil, couleur, imgarray_png, img_array_late1_wdb):\n",
    "    comp = (imgarray_last < arrayseuil)\n",
    "     \n",
    "    empty_img[comp == True] = couleur\n",
    "    \n",
    "    #empty_img[comp == False] = img_array_late1_wdb[comp == False]\n",
    "    return empty_img\n",
    "\n",
    "# on finit de colorer empty_img avec les valeurs que l'on trouve dans l'image de départ\n",
    "# faire attention au format des données que l'on obtient avec rasterio\n",
    "\n",
    "\n",
    "def fill_base_image():\n",
    "    for i in range(l):\n",
    "        for j in range(w):\n",
    "            if empty_img[i][j] == np.inf:\n",
    "                empty_img[i][j] = imgarray[i][j]\n",
    "\n",
    "\n",
    "img_array_late1_wdb = img.read(2) #2018\n",
    "\n",
    "\n",
    "img2 = rasterio.open(\"Coregistration2015-2016.tif\")\n",
    "img_array_late2 = img2.read(2)\n",
    "\n",
    "img_array_late2 = 10*np.log10(img_array_late2) #2016\n",
    "\n",
    "img_png = rasterio.open(\"2015RGB.tif\")\n",
    "imgarray_png=img_png.read(1)\n",
    "\n",
    "empty_img = tif_to_rgb\n",
    "\n",
    "empty_img = compare( img_array_late1, arrayseuil, (255, 0, 0), empty_img)[0]\n",
    "\n",
    "empty_img = last_compare( img_array_late2, arrayseuil, (0, 255, 0), empty_img, img_array_late1_wdb)\n"
   ]
  },
  {
   "cell_type": "code",
   "execution_count": 14,
   "id": "000b7b90",
   "metadata": {},
   "outputs": [],
   "source": [
    "empty_img.shape\n",
    "\n",
    "int_image = empty_img.astype(np.uint8)\n"
   ]
  },
  {
   "cell_type": "code",
   "execution_count": 17,
   "id": "74cd1cc3",
   "metadata": {},
   "outputs": [
    {
     "data": {
      "text/plain": [
       "92.89551"
      ]
     },
     "execution_count": 17,
     "metadata": {},
     "output_type": "execute_result"
    }
   ],
   "source": [
    "np.mean(img_array_late1_wdb)\n",
    "np.max(img_array_late1_wdb)"
   ]
  },
  {
   "cell_type": "code",
   "execution_count": 18,
   "id": "da110df4",
   "metadata": {},
   "outputs": [
    {
     "data": {
      "text/plain": [
       "0.13462096"
      ]
     },
     "execution_count": 18,
     "metadata": {},
     "output_type": "execute_result"
    }
   ],
   "source": [
    "np.mean(img_array_late1_wdb)"
   ]
  },
  {
   "cell_type": "code",
   "execution_count": 19,
   "id": "e8d13979",
   "metadata": {},
   "outputs": [
    {
     "data": {
      "text/plain": [
       "0.13462096"
      ]
     },
     "execution_count": 19,
     "metadata": {},
     "output_type": "execute_result"
    }
   ],
   "source": [
    "np.mean(img_array_late1_wdb)"
   ]
  },
  {
   "cell_type": "code",
   "execution_count": 20,
   "id": "2ea76135",
   "metadata": {},
   "outputs": [
    {
     "data": {
      "text/plain": [
       "255.0"
      ]
     },
     "execution_count": 20,
     "metadata": {},
     "output_type": "execute_result"
    }
   ],
   "source": [
    "np.max(tif_to_rgb)"
   ]
  },
  {
   "cell_type": "code",
   "execution_count": 25,
   "id": "9c84d8e8",
   "metadata": {},
   "outputs": [],
   "source": [
    "pil_image = Image.fromarray(empty_img.astype(np.uint8))\n",
    "pil_image.show()"
   ]
  },
  {
   "cell_type": "code",
   "execution_count": 22,
   "id": "0aa975d4",
   "metadata": {},
   "outputs": [
    {
     "name": "stdout",
     "output_type": "stream",
     "text": [
      "(908, 1313)\n"
     ]
    }
   ],
   "source": [
    "img_png = rasterio.open(\"2015RGB.tif\")\n",
    "imgarray_png=img_png.read(1)\n",
    "print(imgarray_png.shape)"
   ]
  }
 ],
 "metadata": {
  "kernelspec": {
   "display_name": "Python 3 (ipykernel)",
   "language": "python",
   "name": "python3"
  },
  "language_info": {
   "codemirror_mode": {
    "name": "ipython",
    "version": 3
   },
   "file_extension": ".py",
   "mimetype": "text/x-python",
   "name": "python",
   "nbconvert_exporter": "python",
   "pygments_lexer": "ipython3",
   "version": "3.10.2"
  }
 },
 "nbformat": 4,
 "nbformat_minor": 5
}
